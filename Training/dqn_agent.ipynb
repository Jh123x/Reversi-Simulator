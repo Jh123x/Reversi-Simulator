{
 "cells": [
  {
   "cell_type": "markdown",
   "id": "f9c1d372",
   "metadata": {},
   "source": [
    "# Reinforcement Learning Agent"
   ]
  },
  {
   "cell_type": "code",
   "execution_count": 29,
   "id": "bf774c16",
   "metadata": {},
   "outputs": [
    {
     "name": "stdout",
     "output_type": "stream",
     "text": [
      "Requirement already satisfied: imageio in c:\\users\\jhsib\\appdata\\local\\programs\\python\\python39\\lib\\site-packages (2.13.5)\n",
      "Requirement already satisfied: numpy in c:\\users\\jhsib\\appdata\\local\\programs\\python\\python39\\lib\\site-packages (from imageio) (1.21.3)\n",
      "Requirement already satisfied: pillow>=8.3.2 in c:\\users\\jhsib\\appdata\\local\\programs\\python\\python39\\lib\\site-packages (from imageio) (8.4.0)\n",
      "Requirement already satisfied: PILLOW in c:\\users\\jhsib\\appdata\\local\\programs\\python\\python39\\lib\\site-packages (8.4.0)\n",
      "Requirement already satisfied: pyglet in c:\\users\\jhsib\\appdata\\local\\programs\\python\\python39\\lib\\site-packages (1.5.21)\n",
      "Requirement already satisfied: pyvirtualdisplay in c:\\users\\jhsib\\appdata\\local\\programs\\python\\python39\\lib\\site-packages (2.2)\n",
      "Requirement already satisfied: EasyProcess in c:\\users\\jhsib\\appdata\\local\\programs\\python\\python39\\lib\\site-packages (from pyvirtualdisplay) (0.3)\n",
      "Requirement already satisfied: dm-acme in c:\\users\\jhsib\\appdata\\local\\programs\\python\\python39\\lib\\site-packages (0.2.4)\n",
      "Requirement already satisfied: typing-extensions in c:\\users\\jhsib\\appdata\\local\\programs\\python\\python39\\lib\\site-packages (from dm-acme) (3.10.0.2)\n",
      "Requirement already satisfied: numpy in c:\\users\\jhsib\\appdata\\local\\programs\\python\\python39\\lib\\site-packages (from dm-acme) (1.21.3)\n",
      "Requirement already satisfied: absl-py in c:\\users\\jhsib\\appdata\\local\\programs\\python\\python39\\lib\\site-packages (from dm-acme) (1.0.0)\n",
      "Requirement already satisfied: dm-tree in c:\\users\\jhsib\\appdata\\local\\programs\\python\\python39\\lib\\site-packages (from dm-acme) (0.1.6)\n",
      "Requirement already satisfied: dm-env in c:\\users\\jhsib\\appdata\\local\\programs\\python\\python39\\lib\\site-packages (from dm-acme) (1.5)\n",
      "Requirement already satisfied: pillow in c:\\users\\jhsib\\appdata\\local\\programs\\python\\python39\\lib\\site-packages (from dm-acme) (8.4.0)\n",
      "Requirement already satisfied: six in c:\\users\\jhsib\\appdata\\local\\programs\\python\\python39\\lib\\site-packages (from absl-py->dm-acme) (1.16.0)\n"
     ]
    }
   ],
   "source": [
    "!pip install imageio\n",
    "!pip install PILLOW\n",
    "!pip install pyglet\n",
    "!pip install pyvirtualdisplay\n",
    "!pip install dm-acme"
   ]
  },
  {
   "cell_type": "code",
   "execution_count": 30,
   "id": "e41b705d",
   "metadata": {},
   "outputs": [],
   "source": [
    "import numpy as np\n",
    "import tensorflow as tf"
   ]
  },
  {
   "cell_type": "code",
   "execution_count": 31,
   "id": "405a90a1",
   "metadata": {},
   "outputs": [],
   "source": [
    "import os\n",
    "import sys\n",
    "sys.path.insert(0, os.path.join(os.getcwd(), '..'))\n",
    "from Game.AI.Ai import AI\n",
    "from Game.Board import GameBoard\n",
    "from Game.AI.ReinforcementAgent import ReinforcementAI"
   ]
  },
  {
   "cell_type": "code",
   "execution_count": 19,
   "id": "f113a260",
   "metadata": {},
   "outputs": [],
   "source": [
    "%%time\n",
    "\"\"\"Training the agent\"\"\"\n",
    "\n",
    "import random\n",
    "\n",
    "alpha = 0.1\n",
    "gamma = 0.6\n",
    "epsilon = 0.1\n",
    "\n",
    "# For plotting\n",
    "all_epoch = []\n",
    "all_penalties = []\n",
    "\n",
    "for i in range(1, 100001):\n",
    "    state = Gameboard()\n",
    "    "
   ]
  },
  {
   "cell_type": "code",
   "execution_count": null,
   "id": "4531680b",
   "metadata": {},
   "outputs": [],
   "source": []
  }
 ],
 "metadata": {
  "kernelspec": {
   "display_name": "Python 3 (ipykernel)",
   "language": "python",
   "name": "python3"
  },
  "language_info": {
   "codemirror_mode": {
    "name": "ipython",
    "version": 3
   },
   "file_extension": ".py",
   "mimetype": "text/x-python",
   "name": "python",
   "nbconvert_exporter": "python",
   "pygments_lexer": "ipython3",
   "version": "3.9.7"
  }
 },
 "nbformat": 4,
 "nbformat_minor": 5
}
